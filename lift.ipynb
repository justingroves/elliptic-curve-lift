{
 "cells": [
  {
   "cell_type": "code",
   "execution_count": 1,
   "metadata": {},
   "outputs": [],
   "source": [
    "def formal_integral(f):\n",
    "    #Compute the formal integral of a polynomial\n",
    "    deg = f.degree()\n",
    "    P = f.parent()\n",
    "    p = P.characteristic()\n",
    "    res = 0\n",
    "    for d in range(0, deg+1):\n",
    "        if ((d+1) % p != 0):\n",
    "            res += list(f.coefficients(sparse=False))[d] / (d+1)*P.gen()^(d+1)\n",
    "    return res"
   ]
  },
  {
   "cell_type": "code",
   "execution_count": 2,
   "metadata": {},
   "outputs": [],
   "source": [
    "def IntToWitt(k, p, n):\n",
    "    ZZp = Zp(p, prec=n+1, type = 'fixed-mod')\n",
    "    F = GF(p)\n",
    "    series = ZZp(k)\n",
    "    v = []\n",
    "    for _ in range(n+1):\n",
    "        tmp = F(series)\n",
    "        v.append(tmp)\n",
    "        \n",
    "        series = (series - ZZp.teichmuller(tmp))\n",
    "        if series == ZZp(0):\n",
    "            continue #Sage has an issue dividing 0 // p?\n",
    "        else:\n",
    "            series = series // p\n",
    "        \n",
    "        # series = (series - ZZp.teichmuller(tmp)) // p\n",
    "        \n",
    "    return v"
   ]
  },
  {
   "cell_type": "code",
   "execution_count": 3,
   "metadata": {},
   "outputs": [],
   "source": [
    "def etapols(p,n):\n",
    "    PP.<x,y> = PolynomialRing(Integers(p))\n",
    "    \n",
    "    res = []\n",
    "    for i in range(1, n+1):\n",
    "        P1.<x,y> = PolynomialRing(Integers(p^(i+1)))\n",
    "        res.append(x^(p^i) + y^(p^i) - (x+y)^(p^i))\n",
    "    \n",
    "    Q.<x,y> = QQ[]\n",
    "    res[0] = PP(Q(res[0]) / p) #Coerce into an integral domain to do coefficient division\n",
    "    \n",
    "    for i in range(2,n+1):\n",
    "        t = res[i-2]\n",
    "        \n",
    "        for j in range(i, n+1):\n",
    "            P1 = res[j-1].parent()\n",
    "            t = P1(t)^p\n",
    "            res[j-1] -= p^(i-1)*t\n",
    "        \n",
    "        res[i-1] = PP(Q(res[i-1]) / p^i)\n",
    "    \n",
    "    return [x for x in res]"
   ]
  },
  {
   "cell_type": "code",
   "execution_count": 4,
   "metadata": {},
   "outputs": [],
   "source": [
    "def vRemoveZeros(v=[]):\n",
    "    tmp = [ x for x in v if x != 0]\n",
    "    if len(tmp) != 0:\n",
    "        return tmp\n",
    "    elif len(tmp) == 0:\n",
    "        return [0]\n",
    "    else: #I'm not sure if this case is needed in SAGE\n",
    "        return [ v[0].parent()(0) ]"
   ]
  },
  {
   "cell_type": "code",
   "execution_count": 5,
   "metadata": {},
   "outputs": [],
   "source": [
    "def vetav(p, k, v=[], pols=[],check = False):\n",
    "    # print(\"v = \", v)\n",
    "    v = vRemoveZeros(v) \n",
    "    lgt = len(v)\n",
    "    \n",
    "    if lgt == 1:\n",
    "        P = v[0].parent()\n",
    "        return [ P(0) for i in range(0,k) ]\n",
    "    \n",
    "    if pols == []:\n",
    "        pols = etapols(p,k)\n",
    "        \n",
    "    #Problem could be here with the evaluation process...maybe\n",
    "    if lgt == 2: #Note: only evaluates if the number of inputs is the same as the number of indeterminates in pols\n",
    "        # print(\"v, pol = \", v, pols)\n",
    "        return [ pol(v) for pol in pols ]\n",
    "    else:\n",
    "        v1 = [ v[i] for i in range(0, floor(lgt / 2))] \n",
    "        v2 = [ v[i] for i in range(floor(lgt / 2), lgt)]\n",
    "        \n",
    "        x1 = vetav(p, k, v1, pols=pols)\n",
    "        \n",
    "        x2 = vetav(p, k, v2, pols=pols, check=True)\n",
    "        \n",
    "        x3 = vetav(p, k, [sum(x for x in v1), sum(x for x in v2)], pols=pols)\n",
    "        \n",
    "        res = [vRemoveZeros([x1[i], x2[i], x3[i]]) for i in range(0, k) ]\n",
    "        \n",
    "        for i in range(2, k+1):\n",
    "            pols = [ pols[i] for i in range(0, k-i+1)]\n",
    "            tmp = vetav(p, k-i+1, res[i-2], pols=pols)#Check these indices if something goes wrong\n",
    "            # print(\"tmp = \", tmp)\n",
    "            for t in range(i, k+1):\n",
    "                if tmp[t-i] != 0:\n",
    "                    res[t-1].append(tmp[t-i])\n",
    "        return [ sum(x for x in res[i]) for i in range(0, len(res))]"
   ]
  },
  {
   "cell_type": "code",
   "execution_count": 6,
   "metadata": {},
   "outputs": [],
   "source": [
    "def WittProd1(v1, v2, pols=[]):\n",
    "    P = v1[0].parent()\n",
    "    p = P.characteristic()\n",
    "    n = len(v1) - 1\n",
    "    res = [ vRemoveZeros([ v1[j]^(p^(i-j))*v2[i-j]^(p^j) for j in range(0, i+1)]) for i in range(0,n + 1)]\n",
    "    # print(res) Good to here\n",
    "    if n == 1:\n",
    "        return [ sum(x for x in res[i]) for i in range(0, len(res))]\n",
    "    if pols == []:\n",
    "        pols = etapols(p, n-1)\n",
    "    if len(pols) > (n-1):\n",
    "        pols = pols[0:n]\n",
    "    # print(pols) Good to here\n",
    "    \n",
    "    for i in range(2, n+1):\n",
    "        l = len(res[i-1])\n",
    "        for j in range(1, l):\n",
    "            temp = vetav(p, n+1-i, [res[i-1][j], sum(x for x in res[i-1][0:j])])\n",
    "            for t in range(i, n+1):\n",
    "                if temp[t-i] != 0:\n",
    "                    res[t].append(temp[t-i])\n",
    "\n",
    "        del pols[n-i] #Check this index if something goes wrong\n",
    "    \n",
    "    return [ sum(x for x in res[i]) for i in range(0, len(res))]"
   ]
  },
  {
   "cell_type": "code",
   "execution_count": 7,
   "metadata": {},
   "outputs": [],
   "source": [
    "def bin_tab(n, m):\n",
    "    F = Integers(m)\n",
    "    res = [ [F.one()], [F.one(), F.one()]]\n",
    "    for i in range(1, n):\n",
    "        v = [F.one()]\n",
    "        for j in range(0, i):\n",
    "            v.append(res[i][j] + res[i][j+1])\n",
    "        v.append(F.one())\n",
    "        res.append(v)\n",
    "    return res"
   ]
  },
  {
   "cell_type": "code",
   "execution_count": 8,
   "metadata": {},
   "outputs": [],
   "source": [
    "def Not_Zero_Vec(v):\n",
    "    for i in range(0, len(v)):\n",
    "        if v[i] != 0:\n",
    "            return True\n",
    "        else:\n",
    "            return False"
   ]
  },
  {
   "cell_type": "code",
   "execution_count": 9,
   "metadata": {},
   "outputs": [],
   "source": [
    "def GT_der(f, p, i, r, n, tab, pols):\n",
    "    if r == 0:\n",
    "        derf = f\n",
    "    else:\n",
    "        derf = []\n",
    "        for t in f:\n",
    "            coef = t[0]\n",
    "            degx = t[1]\n",
    "            degy = t[2]\n",
    "            \n",
    "            if (degx - i >= 0) and (degy - (r-i) >= 0) and Not_Zero_Vec(coef):\n",
    "                bin1 = tab[degx][i]\n",
    "                bin2 = tab[degy][r-i]\n",
    "                \n",
    "                b12 = Integer(bin1*bin2)\n",
    "                \n",
    "                if (b12 % p^(n-r+1) == 1):\n",
    "                    derf.append([ [coef[i] for i in range(0, n+1-r)], degx-i, degy - (r-i)])\n",
    "                elif (b12 % p^(n-r+1) != 0):\n",
    "                    v1 = IntToWitt(b12, p, n-r)\n",
    "                    \n",
    "                    derf.append([ WittProd1(v1, [ coef[i] for i in range(0, n+1-r)], pols = pols), degx-i, degy - (r-i)])\n",
    "                    \n",
    "        if len(derf) == 0:\n",
    "            derf = [ [ [0 for s in range(0, n-r + 1)], 0, 0 ] ]\n",
    "        \n",
    "    return derf"
   ]
  },
  {
   "cell_type": "code",
   "execution_count": 10,
   "metadata": {},
   "outputs": [],
   "source": [
    "def split_Ds(f, p, upper_bound, PR):\n",
    "    #print(\"f, p, upper_bound, PR: \", f, p, upper_bound, PR)\n",
    "    #print(\"f exponents: \", f.exponents())\n",
    "    res = [ PR(0) for i in range(0, upper_bound + 1)]\n",
    "    N = len(PR.gens())\n",
    "    for i in range(0, len(f.coefficients())):\n",
    "        coef = Integer(f.coefficients()[i])\n",
    "        vcoef = IntToWitt(coef, p, upper_bound)\n",
    "        temp_exp = PR.one()\n",
    "        \n",
    "        #This odd indexing is because Magma assigns generators in the order\n",
    "        #of x0, x1, x2, y0, y1, y2, while Sage does x0, y0, x1, y1, x2, y2,\n",
    "        #so in order for the right generators to be picked this must be done\n",
    "        for k in range(0,2):\n",
    "            for j in range(0,N // 2):\n",
    "                temp_exp *= PR.gen(2*j + k)^(f.exponents()[i][(N/2)*k+j]) #Keep an eye on N/2 for correct indexing\n",
    "        #temp_exp = prod(PR.gen(k)^(f.exponents()[i][k]) for k in range(0,N))\n",
    "        #print(\"temp_exp: \", temp_exp)\n",
    "        for i in range(0, upper_bound + 1):\n",
    "            res[i] += PR(vcoef[i])*temp_exp\n",
    "    #print(\"res in split_Ds: \", res)\n",
    "    return res"
   ]
  },
  {
   "cell_type": "code",
   "execution_count": 11,
   "metadata": {},
   "outputs": [],
   "source": [
    "def old_GT_Ds(i, r, n, p, PR):\n",
    "    PR1 = PolynomialRing(Integers(p^(n+1)), 2*n+2, \"alpha00\")\n",
    "    \n",
    "    PR2.<t> = PolynomialRing(PR1)\n",
    "    \n",
    "    tmp = min(n, n-r+1)\n",
    "    \n",
    "    t1 = sum(PR2.0^(s+1)*PR1.gen(s+1)^(p^(n-(s+1))) for s in range(0, tmp))\n",
    "    t2 = sum(PR2.0^(s+1)*PR1.gen(n+s+2)^(p^(n-(s+1))) for s in range(0, tmp))\n",
    "\n",
    "    t = t1^i*t2^(r-i)\n",
    "    #print(t)\n",
    "    \n",
    "    t = t.coefficients(sparse=False)[r:n+1]\n",
    "    #print(t)\n",
    "    \n",
    "    return [ split_Ds(f, p, n-r, PR) for f in t]"
   ]
  },
  {
   "cell_type": "code",
   "execution_count": 12,
   "metadata": {},
   "outputs": [],
   "source": [
    "def GT_Ds(i, r, n, p, PR):\n",
    "    PR1 = PolynomialRing(Integers(p^(n+1)), 2*n+2, \"alpha00\")\n",
    "    \n",
    "    PR2.<t> = PolynomialRing(PR1)\n",
    "    \n",
    "    tmp = min(n, n-r+1)\n",
    "    \n",
    "    t1 = sum(PR2.0^(s+1)*PR1.gen(s+1)^(p^(n-(s+1))) for s in range(0, tmp))\n",
    "    t2 = sum(PR2.0^(s+1)*PR1.gen(n+s+2)^(p^(n-(s+1))) for s in range(0, tmp))\n",
    "    #print (\"t1 = \", t1)\n",
    "    #print (\"t2 = \", t2)\n",
    "    t = t1^i*t2^(r-i)\n",
    "    \n",
    "    #Deal with the case that the degree of t is less than n+1, so the\n",
    "    #coefficients on higher powers get grabbed (though they are 0)\n",
    "    if t.degree() < n+1:\n",
    "        s = []\n",
    "        for i in range(r, t.degree()+1):\n",
    "            s.append(t.coefficients(sparse=False)[i])\n",
    "        for i in range(t.degree() + 1, n+1):\n",
    "            s.append(PR2(0))\n",
    "    else:\n",
    "        s = t.coefficients(sparse=False)[r:n+1]\n",
    "    \n",
    "    #print(s)\n",
    "    #print(\" s[0], p, n-r, PR = \", s[0], p, n-r, PR)\n",
    "    return [ split_Ds(f, p, n-r, PR) for f in s]"
   ]
  },
  {
   "cell_type": "code",
   "execution_count": 13,
   "metadata": {},
   "outputs": [],
   "source": [
    "def Pol_Root(f, r):\n",
    "    P = f.parent()\n",
    "    n = len(P.gens())\n",
    "    res = 0\n",
    "    for i in range(0, len(f.coefficients())):\n",
    "        nmon = f.coefficients()[i]\n",
    "        for j in range(0,n):\n",
    "            nmon *= (P.gen(j))^(f.exponents()[i][j] // r)\n",
    "        res += nmon\n",
    "    return res"
   ]
  },
  {
   "cell_type": "code",
   "execution_count": 14,
   "metadata": {},
   "outputs": [],
   "source": [
    "def Permute_Entries(array=[]):\n",
    "    permute = []\n",
    "    k = len(array) // 2\n",
    "    for i in range(0, len(array) // 2):\n",
    "        permute.append(array[i])\n",
    "        permute.append(array[k+i])\n",
    "    return permute"
   ]
  },
  {
   "cell_type": "code",
   "execution_count": 15,
   "metadata": {},
   "outputs": [],
   "source": [
    "def GT1(f, pols=[], tab=[], vvars=[]):\n",
    "    n = len(f[0][0]) - 1\n",
    "    P = f[0][0][0].parent()\n",
    "    p = P.characteristic()\n",
    "    \n",
    "    if len(pols) == 0:\n",
    "        pols = etapols(p,n)\n",
    "    \n",
    "    PR = PolynomialRing(P, n+1, var_array=['x','y'])\n",
    "    \n",
    "    maxdegx = max(t[1] for t in f)\n",
    "    maxdegy = max(t[2] for t in f)\n",
    "    maxdeg = max(maxdegx, maxdegy)\n",
    "    \n",
    "    if len(tab) == 0:\n",
    "        tab = bin_tab(maxdeg, p^(n+1))\n",
    "        \n",
    "    res = [ [] for s in range(0, n+1) ]\n",
    "    \n",
    "    for r in range(0, n+1):\n",
    "        for i in range(0, r+1):\n",
    "            # print(\"r, i = \", r, i)\n",
    "            if (i <= maxdegx) and (r-i <= maxdegy):\n",
    "                #print(\"f, p, i, r, n, tab, pols =\", f, p, i, r, n, tab, pols)\n",
    "                derf = GT_der(f, p, i, r, n, tab, pols)\n",
    "                #print(\"derf = \", derf)\n",
    "                \n",
    "                #print(\"i, r, n, p, PR = \", i, r, n, p, PR)\n",
    "                Ds = GT_Ds(i, r, n, p, PR)\n",
    "                # print(\"r, i = \", r, i)\n",
    "                \n",
    "                for m in range(r, n+1):\n",
    "                    for j in range(r, m+1):\n",
    "                        for k in range(r, j+1):\n",
    "                            vt = sum( (t[0][m-j])^(p^j)*(PR.0)^(t[1]*p^m)*(PR.1)^(t[2]*p^m) for t in derf )\n",
    "                            \n",
    "                            v = [ PR(0) for s in range(0, 2*n+2) ]\n",
    "                            for s in range(1, (m+1)):\n",
    "                                v[2*s] = PR.gen(2*s)\n",
    "                                v[2*s+1] = PR.gen(2*s+1)\n",
    "                            \n",
    "                            #print(\"r, i, m, j, k =\", r, i, m, j, k)\n",
    "                            #print(\"Ds = \", Ds)\n",
    "                            #print(\"v = \", v)\n",
    "                            #print(\"Evaluate at \", k-r, j-k)\n",
    "                            #if [r, i, m, j, k] == [2, 2, 2, 2, 2]:\n",
    "                                #return None\n",
    "                            tmp = Ds[k-r][j-k](v)\n",
    "                            #print(\"tmp before =\", tmp)\n",
    "                            tmp = Pol_Root(tmp, p^(n-m))\n",
    "                            #print(\"tmp after: \", tmp)\n",
    "                            #print(\"vt: \", vt)\n",
    "                            prdct = vt*tmp\n",
    "                            #print(\"vt = \", vt)\n",
    "                            #print(\"tmp = \", tmp)\n",
    "                            #print(\"prdct = \", prdct)\n",
    "                            #print(\"vvars = \", vvars)\n",
    "                            #Problem is here, try checking that it's adding things properly to res\n",
    "                            if len(vvars) != 0:\n",
    "                                for ii in range(0, len(list(prdct))):\n",
    "                                    new_vvars = Permute_Entries(vvars) #Get in form (x0, y0, x1, y1, ...)\n",
    "                                    #print(\"new_vvars: \", new_vvars)\n",
    "                                    res[m] += [list(prdct)[ii][0]*(list(prdct)[ii][1](new_vvars))]\n",
    "                            else:\n",
    "                                for ii in range(0, len(list(prdct))):\n",
    "                                    #print(\"Adding to res[{}]: \".format(m), [list(prdct)[ii][0]*(list(prdct)[ii][1])])\n",
    "                                    res[m] += [list(prdct)[ii][0]*(list(prdct)[ii][1])]\n",
    "                            # print(\"r, i, m, j, k =\", r, i, m, j, k)\n",
    "                            # print(\"res = \", res)\n",
    "\n",
    "    #print(\"res = \", res)\n",
    "    #print(\"memory usage = \", get_memory_usage())\n",
    "    for i in range(0, n):\n",
    "        # print(\"p, n-i, res[\",i,\"], pols = \", p, n-i, res[i], pols)\n",
    "        ve = vetav(p,n-i, res[i], pols=pols)\n",
    "        # print(\"ve = \", ve)\n",
    "        for j in range((i+1), (n+1)):\n",
    "            if ve[j-(i+1)] != 0:\n",
    "                res[j].append(ve[j-(i+1)])\n",
    "                #print(\"i, j = \", i, j)\n",
    "                #print(\"res = \", res)\n",
    "        pols = pols[0:(n-(i+1))]\n",
    "    #print(\"res = \", res)\n",
    "    #return None\n",
    "    return [ sum(t for t in res[i]) for i in range(0,len(res))]"
   ]
  },
  {
   "cell_type": "code",
   "execution_count": 16,
   "metadata": {},
   "outputs": [],
   "source": [
    "p = 3; d = 4; F.<a>=GF(p^d);\n",
    "epols = etapols(p,2);\n",
    "P.<x>=PolynomialRing(F);\n",
    "v=[a^29, x + a^11, a^68]\n",
    "w=[a^25, a^48, a^9*x^2]\n",
    "\n",
    "vone = [F(1), F(0), F(0)]\n",
    "vtwo = IntToWitt(2, p, 2)\n",
    "\n",
    "pol = [ [vone, 2, 1], [vtwo, 1, 1], [vone, 0, 3] ]"
   ]
  },
  {
   "cell_type": "code",
   "execution_count": 17,
   "metadata": {},
   "outputs": [
    {
     "data": {
      "text/plain": [
       "[2*a^2 + 2*a + 2,\n",
       " (2*a^3 + a^2 + 2*a)*x + 2*a^3 + a^2 + 2,\n",
       " (2*a^2 + 1)*x^6 + (a^3 + a^2)*x^3 + (2*a^3 + a + 1)*x^2 + (2*a^2 + a + 2)*x + 1]"
      ]
     },
     "execution_count": 17,
     "metadata": {},
     "output_type": "execute_result"
    }
   ],
   "source": [
    "GT1(pol, pols=epols, vvars= v + w)"
   ]
  },
  {
   "cell_type": "code",
   "execution_count": 18,
   "metadata": {
    "scrolled": true
   },
   "outputs": [
    {
     "data": {
      "text/plain": [
       "[(a)*x0^2 + (a)*x0*y0 + 1,\n",
       " -x0^6 + (-a^3)*x0^5*y0 + (-a^3)*x0^4*y0^2 + (-a^2)*x0^4 + (a^2)*x0^3*y0 + (-a^2)*x0^2*y0^2 + (-a^3)*x0^3*x1 + (a^3)*y0^3*x1 + (a^3)*x0^3*y1 + (-a)*x0^2 + (-a)*x0*y0 + (-a^3 + a^2 + a + 1),\n",
       " (a^3 + a + 1)*x0^18 + (-a^2 + a)*x0^17*y0 + (a^3 - a + 1)*x0^16*y0^2 + (-a^3 - a^2 - a - 1)*x0^15*y0^3 + (-a + 1)*x0^14*y0^4 + (-a^3 - a^2 + a)*x0^13*y0^5 + (-a^3 - a^2 + a)*x0^11*y0^7 + (-a^3 - a^2 + a)*x0^10*y0^8 + x0^9*y0^9 + (-a + 1)*x0^16 + (-a^3 + 1)*x0^15*y0 + (a^2)*x0^14*y0^2 + (-a^2 - a + 1)*x0^13*y0^3 + (-a^3 - a^2 + a)*x0^12*y0^4 + (-a^2 - a + 1)*x0^11*y0^5 + (a^2 + a - 1)*x0^9*y0^7 + (-a^2 - a + 1)*x0^8*y0^8 + (a^3)*x0^15*x1 + (-a^3 - a^2 - a - 1)*x0^14*y0*x1 + (a - 1)*x0^13*y0^2*x1 + (a^3 - a^2 + a)*x0^12*y0^3*x1 + (-a^3 - a^2 + 1)*x0^11*y0^4*x1 + (-a + 1)*x0^10*y0^5*x1 + (a^3 + a^2 - a)*x0^9*y0^6*x1 + (-a^3 - a^2 + a)*x0^8*y0^7*x1 + (-a^3)*x0^15*y1 + (a^3 + a^2 + a + 1)*x0^14*y0*y1 + (-a + 1)*x0^13*y0^2*y1 + (a^3 + a^2 - a)*x0^12*y0^3*y1 + (-a^3 - a^2 + a)*x0^11*y0^4*y1 + (-a^3 - a^2)*x0^14 + (a)*x0^13*y0 + (a^3 + 1)*x0^12*y0^2 + (a^3 - a^2 - a - 1)*x0^11*y0^3 + (-a^3 - a^2 - a)*x0^10*y0^4 + (a^3 - a^2 - a - 1)*x0^7*y0^7 + (-a^3 - a - 1)*x0^13*x1 + (a^3 - a^2 - 1)*x0^12*y0*x1 + (-a^3 - a - 1)*x0^11*y0^2*x1 + (a^3 + a + 1)*x0^10*y0^3*x1 + (-a^3 - a - 1)*x0^9*y0^4*x1 + (a^3 + a + 1)*x0^8*y0^5*x1 + (a^2 + a - 1)*x0^6*y0^7*x1 + (a^3 + a^2 + a + 1)*x0^12*x1^2 + (a^3 + a^2 - a)*x0^11*y0*x1^2 + (a^3 + a^2 - a)*x0^10*y0^2*x1^2 + (a^3 + a^2 + a + 1)*x0^9*y0^3*x1^2 + (a^3 + a^2 - a)*x0^8*y0^4*x1^2 + (a^3 + a^2 - a)*x0^7*y0^5*x1^2 + (a^3 + a^2 + a + 1)*x0^6*y0^6*x1^2 + (a^3 + a^2 - a)*x0^5*y0^7*x1^2 + (a^3 + a^2 - a)*x0^4*y0^8*x1^2 + (a^3 + a + 1)*x0^13*y1 + (-a^3 + a^2 + 1)*x0^12*y0*y1 + (a^3 + a + 1)*x0^11*y0^2*y1 + (a^2 + a - 1)*x0^9*y0^4*y1 + (a^3 + a^2 + a + 1)*x0^12*x1*y1 + (a^3 + a^2 - a)*x0^11*y0*x1*y1 + (a^3 + a^2 - a)*x0^10*y0^2*x1*y1 + (-a^3 - a^2 - a - 1)*x0^9*y0^3*x1*y1 + (-a^3 - a^2 + a)*x0^8*y0^4*x1*y1 + (-a^3 - a^2 + a)*x0^7*y0^5*x1*y1 + (a^3 + a^2 + a + 1)*x0^12*y1^2 + (a^3 + a^2 - a)*x0^11*y0*y1^2 + (a^3 + a^2 - a)*x0^10*y0^2*y1^2 + (-a^2 - a - 1)*x0^12 + (a^3 + a^2 - a)*x0^11*y0 + (-a^3 - a^2 + a - 1)*x0^10*y0^2 + (a^3 - a^2 + a + 1)*x0^9*y0^3 + (a + 1)*x0^8*y0^4 + (-a^3 - a^2 - a - 1)*x0^7*y0^5 + (a^3 + a^2 + a)*x0^11*x1 + (-a^3 - 1)*x0^10*y0*x1 + (-a^3 + a^2 + a + 1)*x0^9*y0^2*x1 + (-a^3 - a^2 - a)*x0^8*y0^3*x1 + (a^2 + a - 1)*x0^7*y0^4*x1 + (a^3 - a^2 - a - 1)*x0^6*y0^5*x1 + (a^3 - a^2 - a - 1)*x0^4*y0^7*x1 + (a^2 + a - 1)*x0^10*x1^2 + (-a^2 - a + 1)*x0^9*y0*x1^2 + (a^2 + a - 1)*x0^8*y0^2*x1^2 + (a^2 + a - 1)*x0^7*y0^3*x1^2 + (-a^2 - a + 1)*x0^6*y0^4*x1^2 + (a^2 + a - 1)*x0^5*y0^5*x1^2 + (a^2 + a - 1)*x0^4*y0^6*x1^2 + (-a^2 - a + 1)*x0^3*y0^7*x1^2 + (a^2 + a - 1)*x0^2*y0^8*x1^2 + (a^3 + a^2 - a + 1)*x0^9*x1^3 + (-a^3 - a^2 + a)*x0^6*y0^3*x1^3 + (a^3 + a^2 - a)*x0^3*y0^6*x1^3 + (-a^3 - a^2 - a)*x0^11*y1 + (a^3 + 1)*x0^10*y0*y1 + (a^3 - a^2 - a - 1)*x0^9*y0^2*y1 + (a^3 - a^2 - a - 1)*x0^7*y0^4*y1 + (a^2 + a - 1)*x0^10*x1*y1 + (-a^2 - a + 1)*x0^9*y0*x1*y1 + (a^2 + a - 1)*x0^8*y0^2*x1*y1 + (-a^2 - a + 1)*x0^7*y0^3*x1*y1 + (a^2 + a - 1)*x0^6*y0^4*x1*y1 + (-a^2 - a + 1)*x0^5*y0^5*x1*y1 + (-a^3 - a^2 + a)*x0^9*x1^2*y1 + (-a^3 - a^2 + a)*x0^6*y0^3*x1^2*y1 + (-a^3 - a^2 + a)*x0^3*y0^6*x1^2*y1 + (a^2 + a - 1)*x0^10*y1^2 + (-a^2 - a + 1)*x0^9*y0*y1^2 + (a^2 + a - 1)*x0^8*y0^2*y1^2 + (a^3 + a^2 - a)*x0^9*x1*y1^2 + (-a^3 - a^2 + a)*x0^6*y0^3*x1*y1^2 + (-a^2 + a - 1)*x0^10 + (-a^3 - a^2 - a)*x0^9*y0 + (-a^2 + a - 1)*x0^8*y0^2 + (-a^3 - a - 1)*x0^7*y0^3 + (a^2 + a)*x0^6*y0^4 + (-a^3 - a - 1)*x0^5*y0^5 + (a^3 + a^2 - a)*x0^9*x1 + (-a^3 - a^2 + a + 1)*x0^8*y0*x1 + (-a^3 - a^2 + a + 1)*x0^7*y0^2*x1 + (a^3 + a^2 - 1)*x0^6*y0^3*x1 + (a^3 + a^2 - a - 1)*x0^5*y0^4*x1 + (a^3 + a^2 - a - 1)*x0^4*y0^5*x1 + (a^3 + a^2 + a + 1)*x0^3*y0^6*x1 + (-a^3 + a^2 + a + 1)*x0^8*x1^2 + (-a^3 + a^2 + a + 1)*x0^7*y0*x1^2 + (-a^3 + a^2 + a + 1)*x0^5*y0^3*x1^2 + (-a^3 + a^2 + a + 1)*x0^4*y0^4*x1^2 + (-a^3 + a^2 + a + 1)*x0^2*y0^6*x1^2 + (-a^3 + a^2 + a + 1)*x0*y0^7*x1^2 + (-a^3 - a^2 + a)*x0^9*y1 + (a^3 + a^2 - a - 1)*x0^8*y0*y1 + (a^3 + a^2 - a - 1)*x0^7*y0^2*y1 + (a^3 + a^2 + a + 1)*x0^6*y0^3*y1 + (-a^3 + a^2 + a + 1)*x0^8*x1*y1 + (-a^3 + a^2 + a + 1)*x0^7*y0*x1*y1 + (a^3 - a^2 - a - 1)*x0^5*y0^3*x1*y1 + (a^3 - a^2 - a - 1)*x0^4*y0^4*x1*y1 + (-a^3 + a^2 + a + 1)*x0^8*y1^2 + (-a^3 + a^2 + a + 1)*x0^7*y0*y1^2 + (-a^3 - a^2 + a)*x0^9*x2 + (a^3 + a^2 - a)*y0^9*x2 + (a^3 + a^2 - a)*x0^9*y2 + (a^3 + a^2 - 1)*x0^8 + (-a^3 + a^2 + a + 1)*x0^7*y0 + (-a^3 - a + 1)*x0^6*y0^2 + (-a^3 - 1)*x0^5*y0^3 + (a^3 - a)*x0^4*y0^4 + (-a^3 + a^2 - 1)*x0^7*x1 + (a^3 - a^2 + 1)*x0^6*y0*x1 + (-a^3 + a^2 - 1)*x0^5*y0^2*x1 + (a^3 - a^2 + 1)*x0^4*y0^3*x1 + (-a^3 + a^2 - 1)*x0^3*y0^4*x1 + (a^3 - a^2 + 1)*x0^2*y0^5*x1 + (a^3 + a^2 - a - 1)*x0^6*x1^2 + (a^3 + a^2 - a - 1)*x0^3*y0^3*x1^2 + (a^3 + a^2 - a - 1)*y0^6*x1^2 + (a^3 - a^2 + 1)*x0^7*y1 + (-a^3 + a^2 - 1)*x0^6*y0*y1 + (a^3 - a^2 + 1)*x0^5*y0^2*y1 + (a^3 + a^2 - a - 1)*x0^6*x1*y1 + (-a^3 - a^2 + a + 1)*x0^3*y0^3*x1*y1 + (a^3 + a^2 - a - 1)*x0^6*y1^2 + (a)*x0^6 + (-a^3 + a^2 - a)*x0^5*y0 + (-a^3 + a^2 - a)*x0^4*y0^2 + (-a^3 - a^2 + 1)*x0^3*y0^3 + (a^3 + a - 1)*x0^5*x1 + (a^3 + a - 1)*x0^4*y0*x1 + (-a^3 - a + 1)*x0^2*y0^3*x1 + (-a^3 - a + 1)*x0*y0^4*x1 + (a^3 + a^2 - a)*x1^6 + (-a^3 - a + 1)*x0^5*y1 + (-a^3 - a + 1)*x0^4*y0*y1 + (a^3 + a^2 - a)*x1^3*y1^3 + (-a^3 - a - 1)*x0^4 + (a^3 + a + 1)*x0^3*y0 + (-a^3 - a - 1)*x0^2*y0^2 + (-a^3 + a^2 - a)*x0^3*x1 + (a^3 - a^2 + a)*y0^3*x1 + (a^3 - a^2 + a)*x0^3*y1 + (-a^3 + a^2 + a + 1)*x0^2 + (-a^3 + a^2 + a + 1)*x0*y0]"
      ]
     },
     "execution_count": 18,
     "metadata": {},
     "output_type": "execute_result"
    }
   ],
   "source": [
    "p = 3; d = 4; F.<a> = GF(p^d);\n",
    "pol = [ [ [a, F(2), a^5], 2, 0 ], [ [a, F(0), F(1)], 1, 1 ], [ [F(1), a^7, F(0) ], 0 , 0 ] ]\n",
    "GT1(pol)"
   ]
  },
  {
   "cell_type": "code",
   "execution_count": 65,
   "metadata": {},
   "outputs": [],
   "source": [
    "def lift(a0, b0, n, pols=[], minimal=False):\n",
    "    # length (n+1) -- up to a_n, b_n\n",
    "    # returns vectors va, vb, vF, vH\n",
    "    # pols are etapols from etas.m\n",
    "    # computes canonical lifting by default\n",
    "    # set minimal := true to compute minimal degree liftings\n",
    "    \n",
    "    F = (a0.parent()).fraction_field()\n",
    "    p = F.characteristic()\n",
    "    \n",
    "    if len(pols) == 0:\n",
    "        pols = etapols(p,n)\n",
    "        \n",
    "    Pres.<x0> = PolynomialRing(F)\n",
    "    \n",
    "    resa = [a0]\n",
    "    resb = [b0]\n",
    "    resF = [x0]\n",
    "    resH = [Pres.one()]\n",
    "    \n",
    "    f = x0^3 + a0*x0 + b0\n",
    "    ff = f^((p-1) // 2)\n",
    "    \n",
    "    HI = F(ff.coefficients(sparse=False)[p-1]) #Determine the Hasse Invariant\n",
    "    \n",
    "    for i in range(0, n):\n",
    "        \n",
    "        M = (3*p^(i)-1) // 2\n",
    "        Pi = PolynomialRing(F, ['x_0','y_0', 'a_n', 'b_n'] + [ 'c_%s'%i for i in range(0,M+1)] + ['Hn'])\n",
    "        \n",
    "        if i == 0:\n",
    "            tmppf = ff\n",
    "        else:\n",
    "            tmppf = tmppf^p*ff\n",
    "        \n",
    "        Fi = HI^(-(p^(i+1)-1) / (p-1))*tmppf - x0^(p^(i+1)-1)\n",
    "        #print(\"Fi: \", Fi)\n",
    "        if i > 0:\n",
    "            Fi -= sum( resF[j]^(p^((i+1)-j)-1)*resF[j].derivative() for j in range(1, i+1) )\n",
    "        #print(\"Fi: \", Fi)\n",
    "        \n",
    "        Fi = formal_integral(Fi)\n",
    "        Fi = Fi(Pi.gen(0))\n",
    "        \n",
    "        Fi += sum( Pi.gen(4+j)*(Pi.0)^(p*j) for j in range(0,M+1) if j != p^(i) )\n",
    "        #print(\"Fi: \", Fi)   \n",
    "            \n",
    "        if (not minimal) and (i == 1):\n",
    "            tmp = F(3/4)*resF[1]^2\n",
    "            Fi += sum( tmp.coefficient({x0:Integer(i/p + p)})^p*(Pi.0)^i for i in range(((3*p^2+p)/ 2), 2*p^2-p + 1, p))\n",
    "            \n",
    "        va = [ Pi(x) for x in resa] + [Pi.2]\n",
    "        vb = [ Pi(x) for x in resb] + [Pi.3]\n",
    "        vF = [ x(Pi.0) for x in resF] + [Fi]\n",
    "        vG = [ Pi.1*(x(Pi.0)) for x in resH ] + [Pi.1*Pi.gen(M+5)]\n",
    "        vone = [Pi.one()] + [Pi.zero() for j in range(0, i + 1)]\n",
    "        \n",
    "        #print(\"va: \", va)\n",
    "        #print(\"vb: \", vb)\n",
    "        #print(\"vF: \", vF)\n",
    "        #print(\"vG: \", vG)\n",
    "        \n",
    "        vvars = vF + vG\n",
    "        \n",
    "        GTx = GT1( [[ vone, 3, 0], [va, 1, 0], [vb, 0, 0]], pols=pols, vvars=vvars)\n",
    "        #print(\"vone: \", vone)\n",
    "        #print(\"pols= \", pols)\n",
    "        #print(\"vvars= \", vvars)\n",
    "        GTy = GT1( [[ vone, 0, 2]], pols=pols, vvars=vvars)\n",
    "        \n",
    "        RHS = GTx[i+1]\n",
    "        LHS = GTy[i+1]\n",
    "        \n",
    "        #print(\"GTy= \", GTy)\n",
    "        #print(\"LHS= \", LHS)\n",
    "        #print(\"GTx= \", GTx)\n",
    "        #print(\"RHS= \", RHS)\n",
    "        #print(\"LHS Parent: \", LHS.parent())\n",
    "        LHS = LHS.coefficient({Pi.gen(M+5):0}) #Terms without Hn?\n",
    "        \n",
    "        #print(\"LHS: \" , LHS)\n",
    "        \n",
    "        deg = LHS.degree(Pi.1)\n",
    "        tmppf2 = 1\n",
    "        tmpLHS = LHS.coefficient({Pi.1:0})\n",
    "        for d in [ j for j in range(2, deg+1) if j % 2 == 0]:\n",
    "            tmppf2 *= f(Pi.0)\n",
    "            tmpLHS += LHS.coefficient({Pi.1:d})*tmppf2\n",
    "            \n",
    "        RHS -= tmpLHS\n",
    "        \n",
    "        tmppf2 = (tmppf*f)(Pi.0)\n",
    "        \n",
    "        RHS *= Pi(1/2)\n",
    "        deg1 = RHS.degree(Pi.0)\n",
    "        deg2 = (3*(p^(i+1)+1) / 2)\n",
    "        quo = 0\n",
    "        #print(\"RHS start: \", RHS)\n",
    "        \n",
    "        while deg1 >= deg2:\n",
    "            lterm = RHS.coefficient({Pi.0:deg1})*((Pi.0)^(Integer(deg1-deg2)))\n",
    "            RHS -= lterm*tmppf2\n",
    "            #print(\"RHS: \", RHS)\n",
    "            quo += lterm\n",
    "            deg1 = RHS.degree(Pi.0)\n",
    "            \n",
    "        vrem = []\n",
    "        for jj in range(0, RHS.degree(Pi.0)+1):\n",
    "            vrem += [ RHS.coefficient({Pi.0:jj})]\n",
    "            \n",
    "        neqts = len(vrem)\n",
    "\n",
    "        Mat = Matrix(F, [ [F(vrem[j].coefficient({Pi.gen(k+1):1})) for j in range(0, neqts)]\n",
    "                         for k in  [ ii for ii in range(1, (2+(M+1))+1) if ii != 3+p^(i) ]])\n",
    "        \n",
    "        #print(\"vrem: \", vrem)\n",
    "        vec = vector(F, [ -vrem[j]([Pi(0) for k in range(1, 2 + 2 + (M+1) + 2)]) for j in range(0, neqts)])\n",
    "\n",
    "        #print(\"Mat: \", Mat)\n",
    "        #print(\"vec: \", vec)\n",
    "        \n",
    "        vsol = Mat.solve_left(vec)\n",
    "        \n",
    "        evalvec = [x0, 0] + [vsol[j] for j in range(0, 2+p^(i))] + [0] + [vsol[j] for j in range(2+p^(i), (2+M))] + [0]\n",
    "        #print(\"evalvec: \", evalvec)\n",
    "        \n",
    "        resa.append(vsol[0])\n",
    "        resb.append(vsol[1])\n",
    "        resF.append(Fi(evalvec))\n",
    "        resH.append(quo(evalvec))\n",
    "        #print(\"i= \", i)\n",
    "        #print(\"resa: \", resa)\n",
    "        #print(\"resb: \", resb)\n",
    "        #print(\"resF: \", resF)\n",
    "        #print(\"resH: \", resH)\n",
    "        \n",
    "    return resa, resb, resF, resH"
   ]
  },
  {
   "cell_type": "code",
   "execution_count": 66,
   "metadata": {},
   "outputs": [
    {
     "data": {
      "text/plain": [
       "([1, 0, 4, 0],\n",
       " [2, 3, 3, 0],\n",
       " [x0,\n",
       "  4*x0^7 + 3*x0^4 + x0^3 + x0^2 + 2*x0 + 2,\n",
       "  2*x0^37 + 4*x0^34 + 3*x0^33 + x0^30 + x0^29 + 3*x0^27 + 4*x0^26 + 2*x0^24 + 2*x0^23 + 4*x0^22 + x0^20 + 4*x0^19 + 2*x0^17 + x0^16 + x0^15 + 2*x0^14 + 4*x0^11 + x0^10 + 4*x0^9 + 4*x0^8 + 4*x0^7 + 2*x0^6 + 3*x0^5 + 3*x0^3 + 2*x0^2 + 2*x0 + 1,\n",
       "  x0^187 + 3*x0^185 + 2*x0^184 + 4*x0^183 + 3*x0^180 + 4*x0^179 + 2*x0^177 + 3*x0^176 + x0^175 + 2*x0^174 + 4*x0^173 + 3*x0^172 + 4*x0^171 + 3*x0^170 + 2*x0^169 + 3*x0^167 + x0^166 + 2*x0^165 + 2*x0^164 + 3*x0^163 + 2*x0^162 + x0^161 + 3*x0^159 + x0^158 + 2*x0^156 + 3*x0^155 + 2*x0^154 + 2*x0^153 + 2*x0^152 + 3*x0^149 + 4*x0^147 + 3*x0^143 + x0^142 + 2*x0^141 + 4*x0^139 + 4*x0^137 + x0^136 + 3*x0^134 + 2*x0^133 + 3*x0^132 + 4*x0^131 + 2*x0^130 + 4*x0^129 + 2*x0^128 + 2*x0^126 + 2*x0^123 + 4*x0^122 + 4*x0^121 + x0^119 + x0^118 + 4*x0^117 + 4*x0^116 + 3*x0^115 + 3*x0^113 + 2*x0^112 + 3*x0^111 + 3*x0^110 + 3*x0^109 + x0^108 + 2*x0^106 + 3*x0^105 + 3*x0^104 + 2*x0^103 + 4*x0^102 + 3*x0^101 + 3*x0^100 + 2*x0^99 + x0^98 + 3*x0^97 + 2*x0^96 + 3*x0^95 + 4*x0^94 + 3*x0^93 + 3*x0^92 + x0^91 + 3*x0^90 + x0^88 + 3*x0^87 + 4*x0^85 + x0^84 + x0^83 + x0^81 + x0^80 + 2*x0^79 + 3*x0^78 + 4*x0^77 + x0^76 + 3*x0^74 + x0^73 + 2*x0^72 + 3*x0^71 + x0^69 + 2*x0^68 + x0^67 + x0^65 + 3*x0^64 + 4*x0^63 + x0^62 + 4*x0^61 + 4*x0^60 + 3*x0^59 + x0^58 + 3*x0^57 + 2*x0^56 + x0^55 + 4*x0^54 + x0^53 + 3*x0^52 + 4*x0^51 + 4*x0^50 + 3*x0^49 + x0^48 + 2*x0^47 + 4*x0^46 + x0^45 + 3*x0^43 + 3*x0^42 + 4*x0^41 + x0^39 + 4*x0^38 + x0^37 + 2*x0^36 + 4*x0^35 + 3*x0^33 + 4*x0^31 + x0^30 + 3*x0^28 + 4*x0^27 + 2*x0^26 + 4*x0^24 + 2*x0^23 + 3*x0^22 + 2*x0^21 + 2*x0^20 + x0^19 + 2*x0^18 + 4*x0^16 + 4*x0^14 + 3*x0^13 + 2*x0^11 + 3*x0^9 + 4*x0^7 + 2*x0^5 + 4*x0^2 + 4*x0 + 3],\n",
       " [1,\n",
       "  x0^8 + 2*x0^6 + x0^5 + 2*x0^4 + x0^3 + x0^2 + x0,\n",
       "  x0^56 + 2*x0^54 + 4*x0^53 + x0^52 + 4*x0^51 + 4*x0^50 + 3*x0^48 + 3*x0^45 + 3*x0^44 + 2*x0^42 + 3*x0^41 + 3*x0^40 + 3*x0^39 + 4*x0^38 + 3*x0^37 + x0^34 + 4*x0^33 + 3*x0^32 + 2*x0^31 + x0^30 + x0^29 + 4*x0^27 + x0^25 + 3*x0^24 + 3*x0^23 + 2*x0^20 + 3*x0^19 + 2*x0^18 + 4*x0^17 + 3*x0^16 + x0^14 + 2*x0^13 + 4*x0^11 + 4*x0^8 + 3*x0^7 + 2*x0^5 + x0^4 + 3*x0 + 1,\n",
       "  x0^336 + 2*x0^334 + 4*x0^333 + x0^332 + 4*x0^331 + 4*x0^330 + 2*x0^326 + 4*x0^324 + 3*x0^323 + 2*x0^322 + 2*x0^321 + 3*x0^320 + 3*x0^319 + x0^318 + 4*x0^317 + 2*x0^316 + x0^315 + 2*x0^314 + 4*x0^313 + x0^312 + 3*x0^311 + 4*x0^310 + 3*x0^309 + x0^308 + 4*x0^307 + x0^305 + 3*x0^304 + x0^303 + 4*x0^302 + x0^301 + x0^300 + x0^296 + 2*x0^294 + 4*x0^293 + x0^292 + 4*x0^291 + 4*x0^290 + 2*x0^286 + 4*x0^284 + 3*x0^283 + 2*x0^282 + 4*x0^281 + 3*x0^280 + 2*x0^279 + x0^278 + x0^277 + x0^276 + x0^275 + x0^274 + 3*x0^273 + x0^271 + 2*x0^270 + 4*x0^269 + 4*x0^267 + 4*x0^265 + 4*x0^263 + 4*x0^262 + 3*x0^261 + x0^260 + 4*x0^259 + 3*x0^258 + x0^257 + 3*x0^255 + 2*x0^254 + 4*x0^253 + x0^252 + 2*x0^251 + x0^250 + 3*x0^249 + 3*x0^248 + x0^247 + 4*x0^246 + x0^245 + 3*x0^244 + x0^242 + 4*x0^241 + x0^240 + x0^239 + 4*x0^238 + x0^237 + 4*x0^236 + 2*x0^234 + 3*x0^233 + 4*x0^229 + 2*x0^228 + 4*x0^227 + x0^226 + 4*x0^224 + 2*x0^223 + 3*x0^222 + 2*x0^221 + x0^220 + x0^219 + x0^217 + x0^216 + 3*x0^215 + x0^214 + x0^213 + 3*x0^212 + 3*x0^211 + 4*x0^210 + 4*x0^208 + 3*x0^207 + 4*x0^206 + 3*x0^205 + 3*x0^204 + 4*x0^203 + 4*x0^202 + 2*x0^201 + 2*x0^199 + 2*x0^198 + x0^196 + 4*x0^195 + x0^194 + 3*x0^193 + 4*x0^192 + 3*x0^191 + 4*x0^190 + x0^188 + 4*x0^187 + 4*x0^186 + 2*x0^185 + 3*x0^184 + 2*x0^182 + 4*x0^181 + 2*x0^180 + x0^178 + 2*x0^177 + 4*x0^176 + x0^175 + 3*x0^174 + 4*x0^173 + 2*x0^172 + 3*x0^170 + 3*x0^169 + 4*x0^168 + x0^166 + 2*x0^165 + 3*x0^164 + x0^163 + 3*x0^162 + 4*x0^161 + 2*x0^159 + x0^158 + x0^157 + 2*x0^156 + 2*x0^154 + 4*x0^152 + 2*x0^151 + 4*x0^150 + x0^149 + 4*x0^148 + 3*x0^146 + x0^145 + 3*x0^144 + x0^142 + 2*x0^141 + 3*x0^140 + 4*x0^139 + 2*x0^138 + 2*x0^137 + 4*x0^136 + 4*x0^135 + x0^134 + 3*x0^133 + x0^131 + x0^129 + x0^128 + 2*x0^126 + x0^125 + x0^124 + 2*x0^123 + 4*x0^122 + 2*x0^121 + 3*x0^120 + 3*x0^119 + 3*x0^118 + x0^117 + 3*x0^116 + 2*x0^114 + 4*x0^113 + 3*x0^111 + 3*x0^110 + 3*x0^109 + 4*x0^108 + x0^107 + 4*x0^106 + 2*x0^104 + 3*x0^103 + x0^101 + 3*x0^100 + 4*x0^99 + 3*x0^98 + 4*x0^97 + 4*x0^95 + 3*x0^94 + 2*x0^93 + 2*x0^92 + 2*x0^91 + 3*x0^90 + 4*x0^89 + 4*x0^88 + x0^87 + x0^86 + 3*x0^85 + 2*x0^84 + x0^82 + 4*x0^81 + 2*x0^80 + 3*x0^78 + 4*x0^75 + 3*x0^74 + x0^73 + 4*x0^72 + 2*x0^70 + x0^69 + 4*x0^68 + 3*x0^66 + 3*x0^64 + 2*x0^63 + 3*x0^62 + x0^61 + x0^59 + 4*x0^58 + 4*x0^57 + x0^56 + 3*x0^55 + x0^54 + x0^53 + 3*x0^52 + 3*x0^51 + 2*x0^50 + 3*x0^49 + 4*x0^48 + 2*x0^47 + 4*x0^46 + x0^44 + 4*x0^43 + x0^42 + 3*x0^40 + 2*x0^39 + 3*x0^38 + x0^37 + 3*x0^36 + 3*x0^35 + 3*x0^34 + x0^33 + 4*x0^32 + 3*x0^31 + 4*x0^29 + 4*x0^28 + x0^27 + x0^26 + 4*x0^24 + 2*x0^22 + 4*x0^19 + x0^18 + 4*x0^17 + 2*x0^16 + 2*x0^14 + 3*x0^13 + 4*x0^11 + 4*x0^10 + 3*x0^9 + 4*x0^8 + 2*x0^7 + x0^5 + x0^3 + 4*x0^2 + 4*x0])"
      ]
     },
     "execution_count": 66,
     "metadata": {},
     "output_type": "execute_result"
    }
   ],
   "source": [
    "epols = etapols(5,3)\n",
    "lift(GF(5)(1),GF(5)(2),3, minimal=True, pols=epols)"
   ]
  },
  {
   "cell_type": "code",
   "execution_count": 67,
   "metadata": {
    "scrolled": true
   },
   "outputs": [
    {
     "data": {
      "text/plain": [
       "([a0, (a0^3*b0^2 + b0^4)/a0],\n",
       " [b0, -a0^6*b0 + a0^3*b0^3 + b0^5],\n",
       " [x0,\n",
       "  (1/(-a0))*x0^7 + (2*b0/(-2*a0))*x0^4 + a0*x0^3 - 2*b0*x0^2 + b0^2/(2*a0)*x0 + a0*b0],\n",
       " [1,\n",
       "  ((-1)/(-a0))*x0^8 + 2*x0^6 + b0/(2*a0)*x0^5 + 2*a0*x0^4 - 2*b0*x0^3 + a0^2*x0^2 - 2*a0*b0*x0 - 2*a0^3 - 2*b0^2])"
      ]
     },
     "execution_count": 67,
     "metadata": {},
     "output_type": "execute_result"
    }
   ],
   "source": [
    "lift(a0, b0, 1)"
   ]
  },
  {
   "cell_type": "code",
   "execution_count": 17,
   "metadata": {},
   "outputs": [
    {
     "data": {
      "text/plain": [
       "Fraction Field of Multivariate Polynomial Ring in a0, b0 over Finite Field of size 5"
      ]
     },
     "execution_count": 17,
     "metadata": {},
     "output_type": "execute_result"
    }
   ],
   "source": [
    "p = 5; \n",
    "R.<a0, b0> = PolynomialRing(GF(p),2)\n",
    "F = R.fraction_field()\n",
    "F"
   ]
  },
  {
   "cell_type": "code",
   "execution_count": 68,
   "metadata": {},
   "outputs": [
    {
     "data": {
      "text/plain": [
       "([a0,\n",
       "  (a0^3*b0^2 + b0^4)/a0,\n",
       "  (a0^36 - a0^33*b0^2 - a0^30*b0^4 + 2*a0^27*b0^6 - 2*a0^24*b0^8 - a0^18*b0^12 + a0^12*b0^16 + 2*a0^9*b0^18 + a0^6*b0^20 + a0^3*b0^22 + b0^24)/(-a0^11)],\n",
       " [b0,\n",
       "  -a0^6*b0 + a0^3*b0^3 + b0^5,\n",
       "  a0^36*b0 - a0^33*b0^3 - 2*a0^27*b0^7 - a0^21*b0^11 - a0^15*b0^15 + a0^12*b0^17 - 2*a0^6*b0^21 - b0^25],\n",
       " [x0,\n",
       "  (1/(-a0))*x0^7 + (2*b0/(-2*a0))*x0^4 + a0*x0^3 - 2*b0*x0^2 + b0^2/(2*a0)*x0 + a0*b0,\n",
       "  (1/(-2*a0^6))*x0^37 + ((-2*a0^3*b0^2 - 2*b0^4)/(-2*a0^11))*x0^35 + 2*b0/a0^6*x0^34 + 1/(2*a0^4)*x0^33 + ((-a0^3 - b0^2)/a0^6)*x0^31 + b0^5/(2*a0^10)*x0^30 + ((-b0^2)/a0^5)*x0^29 + ((-a0^3 + 2*b0^2)/(-a0^4))*x0^27 + ((-2*b0)/(-a0^2))*x0^26 + ((-2*a0^3*b0 + b0^3)/(2*a0^4))*x0^24 + ((a0^6 + 2*a0^3*b0^2 - b0^4)/(-a0^5))*x0^23 + ((-2*a0^3*b0^3 + b0^5)/(-a0^6))*x0^22 + ((a0^3*b0^2 + b0^4)/a0^4)*x0^21 + ((a0^12*b0 + 2*a0^9*b0^3 - 2*a0^3*b0^7 - 2*b0^9)/(-2*a0^11))*x0^20 + ((a0^9 - 2*a0^6*b0^2 - b0^6)/a0^6)*x0^19 + ((-2*a0^6*b0 - a0^3*b0^3 + b0^5)/(-a0^4))*x0^18 + ((-a0^6 + 2*a0^3*b0^2 + 2*b0^4)/(2*a0^2))*x0^17 + ((-a0^6*b0^3 + 2*a0^3*b0^5 - b0^7)/(-2*a0^6))*x0^16 + ((a0^15 + 2*a0^12*b0^2 - a0^6*b0^6 + 2*b0^10)/(-2*a0^10))*x0^15 + ((a0^6*b0 - 2*b0^5)/(-a0^2))*x0^14 + ((-a0^9 + 2*a0^6*b0^2 - a0^3*b0^4 + b0^6)/(-2*a0^3))*x0^13 + ((-a0^9*b0 + a0^6*b0^3 - 2*a0^3*b0^5 + b0^7)/(-2*a0^4))*x0^12 + ((2*a0^9*b0^2 - 2*a0^6*b0^4 - a0^3*b0^6 + 2*b0^8)/a0^5)*x0^11 + ((2*a0^6*b0^3 - 2*a0^3*b0^5 - 2*b0^7)/a0^3)*x0^10 + ((-2*a0^9*b0^2 + 2*a0^6*b0^4 - a0^3*b0^6 - b0^8)/a0^4)*x0^9 + ((-a0^9*b0^3 - a0^6*b0^5 - 2*a0^3*b0^7 + 2*b0^9)/(2*a0^5))*x0^8 + ((2*a0^9*b0^4 + 2*a0^6*b0^6 - a0^3*b0^8 - 2*b0^10)/(-a0^6))*x0^7 + ((2*a0^9*b0^3 + 2*a0^3*b0^7 - 2*b0^9)/(-a0^4))*x0^6 + ((-a0^21 - 2*a0^15*b0^4 + a0^12*b0^6 + 2*a0^9*b0^8 + 2*a0^3*b0^12 + 2*b0^14)/a0^11)*x0^5 + ((2*a0^9*b0^5 + a0^6*b0^7 - 2*a0^3*b0^9 - b0^11)/(2*a0^6))*x0^4 + ((a0^9*b0^4 + a0^6*b0^6 - a0^3*b0^8 + 2*b0^10)/(-a0^4))*x0^3 + ((a0^9*b0^5 + a0^6*b0^7 + 2*b0^11)/(-2*a0^5))*x0^2 + ((-2*a0^9*b0^6 + b0^12)/(-a0^6))*x0 + (-a0^21*b0 + a0^18*b0^3 - a0^15*b0^5 + a0^12*b0^7 + a0^9*b0^9 - 2*a0^6*b0^11 + b0^15)/a0^10],\n",
       " [1,\n",
       "  ((-1)/(-a0))*x0^8 + 2*x0^6 + b0/(2*a0)*x0^5 + 2*a0*x0^4 - 2*b0*x0^3 + a0^2*x0^2 - 2*a0*b0*x0 - 2*a0^3 - 2*b0^2,\n",
       "  1/a0^10*x0^56 + 2/a0^9*x0^54 + 2*b0/a0^10*x0^53 + 1/a0^8*x0^52 + 2*b0/a0^9*x0^51 + b0^2/a0^10*x0^50 + ((-1)/(-2*a0^6))*x0^48 + ((2*a0^3*b0^2 + 2*b0^4)/(-2*a0^11))*x0^46 + (2*b0/(-2*a0^6))*x0^45 + ((-a0^6 - a0^3*b0^2 - b0^4)/(-2*a0^10))*x0^44 + ((-a0^3*b0^3 - b0^5)/(-2*a0^11))*x0^43 + ((-a0^6 - 2*a0^3*b0^2 - 2*b0^4)/(2*a0^9))*x0^42 + ((2*a0^6*b0 + 2*a0^3*b0^3 + b0^5)/(-a0^10))*x0^41 + ((-2*a0^9 - a0^6*b0^2 + 2*a0^3*b0^4 + 2*b0^6)/(-2*a0^11))*x0^40 + ((-a0^6*b0 - b0^5)/(2*a0^9))*x0^39 + ((a0^9 - 2*a0^6*b0^2 + b0^6)/(-2*a0^10))*x0^38 + ((2*a0^6*b0 - a0^3*b0^3 + b0^5)/a0^8)*x0^37 + ((-2*a0^9 + 2*a0^6*b0^2 - 2*a0^3*b0^4 - b0^6)/(2*a0^9))*x0^36 + ((-2*a0^6*b0^3 + 2*b0^7)/(2*a0^10))*x0^35 + ((-2*a0^6 - 2*b0^4)/a0^5)*x0^34 + ((2*a0^6*b0 + a0^3*b0^3 + 2*b0^5)/(-a0^6))*x0^33 + ((2*a0^6 - b0^4)/(2*a0^4))*x0^32 + ((2*a0^12*b0 - 2*a0^9*b0^3 - a0^6*b0^5 + a0^3*b0^7 + b0^9)/(-2*a0^11))*x0^31 + ((2*a0^9 + 2*a0^6*b0^2 + 2*b0^6)/(-2*a0^6))*x0^30 + ((a0^12*b0 + a0^9*b0^3 - a0^6*b0^5 + 2*a0^3*b0^7 + 2*b0^9)/(-2*a0^10))*x0^29 + ((2*a0^12*b0^2 + a0^9*b0^4 - a0^6*b0^6 - a0^3*b0^8 - b0^10)/a0^11)*x0^28 + ((2*a0^12*b0 - 2*a0^9*b0^3 + 2*a0^6*b0^5 + a0^3*b0^7 + b0^9)/(-2*a0^9))*x0^27 + ((-a0^15 - a0^12*b0^2 - 2*a0^3*b0^8 - 2*b0^10)/(2*a0^10))*x0^26 + ((-2*a0^15*b0 + 2*a0^12*b0^3 - a0^9*b0^5 - a0^6*b0^7 - a0^3*b0^9 - b0^11)/(2*a0^11))*x0^25 + (-a0^3*b0^2 + 2*b0^4)*x0^24 + ((a0^9*b0 + 2*a0^6*b0^3 - 2*b0^7)/(-a0^4))*x0^23 + ((a0^9 - 2*a0^6*b0^2 - a0^3*b0^4 + 2*b0^6)/a0^2)*x0^22 + ((2*a0^9*b0 + 2*a0^3*b0^5 - b0^7)/(-a0^3))*x0^21 + ((-2*a0^9*b0^2 + 2*a0^3*b0^6 + b0^8)/(-2*a0^4))*x0^20 + (-a0^7*b0 + a0^4*b0^3 + a0*b0^5)*x0^19 + (-2*a0^6*b0^2 - 2*a0^3*b0^4 - 2*b0^6)*x0^18 + ((-2*a0^9*b0 - a0^6*b0^3 + a0^3*b0^5 - 2*b0^7)/a0)*x0^17 + ((-2*a0^15 + a0^12*b0^2 + 2*a0^6*b0^6 - b0^10)/(2*a0^5))*x0^16 + ((a0^12*b0 + 2*a0^9*b0^3 - a0^6*b0^5 + 2*a0^3*b0^7 - b0^9)/a0^3)*x0^15 + ((-a0^15 + 2*a0^9*b0^4 - a0^3*b0^8 - 2*b0^10)/(2*a0^4))*x0^14 + ((2*a0^12*b0^3 + 2*a0^9*b0^5 - a0^6*b0^7 - a0^3*b0^9 + b0^11)/(-a0^5))*x0^13 + ((-a0^15 + 2*a0^9*b0^4 + a0^6*b0^6 + a0^3*b0^8 + b0^10)/(-2*a0^3))*x0^12 + ((2*a0^21*b0 - 2*a0^18*b0^3 + a0^15*b0^5 - a0^12*b0^7 - a0^9*b0^9 + a0^6*b0^11 + b0^15)/(-a0^10))*x0^11 + ((-a0^18 + 2*a0^15*b0^2 + 2*a0^9*b0^6 - 2*a0^6*b0^8 + a0^3*b0^10 - 2*b0^12)/(-a0^5))*x0^10 + ((a0^21*b0 - a0^18*b0^3 + a0^15*b0^5 - a0^12*b0^7 - a0^9*b0^9 - 2*b0^15)/a0^9)*x0^9 + ((-2*a0^24 + 2*a0^21*b0^2 - a0^18*b0^4 - a0^15*b0^6 - 2*a0^12*b0^8 + 2*a0^9*b0^10 + b0^16)/(2*a0^10))*x0^8 + ((2*a0^21*b0 + 2*a0^18*b0^3 - 2*a0^15*b0^5 + a0^12*b0^7 - a0^9*b0^9 - 2*b0^15)/(2*a0^8))*x0^7 + ((-2*a0^24 + 2*a0^21*b0^2 - 2*a0^18*b0^4 - a0^15*b0^6 - a0^12*b0^8 + 2*a0^9*b0^10 - 2*b0^16)/a0^9)*x0^6 + ((a0^24*b0 + a0^21*b0^3 - 2*a0^18*b0^5 + a0^15*b0^7 + a0^9*b0^11 + 2*b0^17)/(-2*a0^10))*x0^5 + (a0^13*b0^2 - a0^4*b0^8 + 2*a0*b0^10)*x0^4 + (-a0^15*b0 - 2*a0^12*b0^3 - a0^6*b0^7 + 2*a0^3*b0^9 - b0^11)*x0^3 + (-2*a0^17 - a0^14*b0^2 - a0^11*b0^4 + a0^8*b0^6 - a0^5*b0^8 + a0^2*b0^10)*x0^2 + (-a0^16*b0 - a0^13*b0^3 - a0^10*b0^5 - a0^7*b0^7 - 2*a0^4*b0^9 - a0*b0^11)*x0 - a0^18 - a0^15*b0^2 + a0^12*b0^4 - 2*a0^9*b0^6 + a0^6*b0^8 + 2*b0^12])"
      ]
     },
     "execution_count": 68,
     "metadata": {},
     "output_type": "execute_result"
    }
   ],
   "source": [
    "lift(a0, b0, 2, minimal=True)"
   ]
  },
  {
   "cell_type": "code",
   "execution_count": 49,
   "metadata": {},
   "outputs": [
    {
     "data": {
      "text/plain": [
       "[1, 2, 3]"
      ]
     },
     "execution_count": 49,
     "metadata": {},
     "output_type": "execute_result"
    }
   ],
   "source": [
    "p = 5\n",
    "i = 0\n",
    "M = 1\n",
    "v = [ ii for ii in range(1, (2+(M+1))+1) if ii != 3+p^(i) ]\n",
    "v"
   ]
  },
  {
   "cell_type": "code",
   "execution_count": 90,
   "metadata": {},
   "outputs": [
    {
     "name": "stdout",
     "output_type": "stream",
     "text": [
      "Mat:  [0 0 0 0 0 3 0 0 0]\n",
      "[3 0 0 0 0 0 0 0 0]\n",
      "[3 3 2 1 3 2 3 1 3]\n",
      "vec:  (0, 1, 4, 2, 1, 4, 1, 2, 1)\n",
      "Mat:  [0 0 0 0 0 0 0 0 0 0 0 0 0 0 0 0 0 0 0 0 0 0 0 0 0 3 0 0 0 0 0 0 0 0 0 0 0 0 0]\n",
      "[3 0 0 0 0 0 0 0 0 0 0 0 0 0 0 0 0 0 0 0 0 0 0 0 0 0 0 0 0 0 0 0 0 0 0 0 0 0 0]\n",
      "[3 4 1 3 4 4 3 4 2 4 1 0 2 1 1 3 0 3 4 4 1 1 1 3 2 3 2 4 2 0 2 1 4 2 1 0 1 2 1]\n",
      "[1 3 2 1 3 4 1 3 4 3 3 0 4 2 2 2 0 1 3 3 1 2 2 1 4 1 4 3 4 0 2 2 3 4 2 2 2 4 2]\n",
      "[2 2 3 4 2 2 4 2 1 2 3 0 1 3 3 3 0 4 2 2 0 3 3 4 1 0 1 2 1 0 0 3 2 1 3 3 3 1 3]\n",
      "[3 3 2 1 3 1 1 3 4 3 3 0 4 2 2 3 0 1 3 3 0 2 2 1 4 1 4 3 4 0 1 2 3 4 2 4 2 4 2]\n",
      "[2 3 2 1 3 3 1 3 4 3 1 0 4 2 2 1 0 1 3 3 3 2 2 1 4 3 4 3 4 0 1 2 3 4 2 3 2 4 2]\n",
      "[0 0 0 0 0 2 0 0 0 0 0 0 0 0 0 0 0 0 0 0 0 0 0 0 0 0 0 0 0 0 4 0 0 0 0 0 0 0 0]\n",
      "[0 0 0 0 0 0 0 0 0 0 2 0 0 0 0 0 0 0 0 0 0 0 0 0 0 0 0 0 0 0 0 0 0 0 0 4 0 0 0]\n",
      "vec:  (0, 3, 2, 1, 4, 4, 2, 2, 2, 1, 4, 4, 4, 0, 1, 0, 1, 0, 3, 3, 2, 2, 3, 2, 4, 3, 3, 2, 3, 3, 0, 1, 3, 1, 1, 3, 4, 0, 0)\n"
     ]
    },
    {
     "ename": "ValueError",
     "evalue": "matrix equation has no solutions",
     "output_type": "error",
     "traceback": [
      "\u001b[0;31m---------------------------------------------------------------------------\u001b[0m",
      "\u001b[0;31mValueError\u001b[0m                                Traceback (most recent call last)",
      "\u001b[0;32m/opt/sagemath-9.2/local/lib/python3.7/site-packages/sage/matrix/matrix2.pyx\u001b[0m in \u001b[0;36msage.matrix.matrix2.Matrix.solve_left (build/cythonized/sage/matrix/matrix2.c:6239)\u001b[0;34m()\u001b[0m\n\u001b[1;32m    400\u001b[0m             \u001b[0;32mtry\u001b[0m\u001b[0;34m:\u001b[0m\u001b[0;34m\u001b[0m\u001b[0;34m\u001b[0m\u001b[0m\n\u001b[0;32m--> 401\u001b[0;31m                 \u001b[0;32mreturn\u001b[0m \u001b[0mself\u001b[0m\u001b[0;34m.\u001b[0m\u001b[0mtranspose\u001b[0m\u001b[0;34m(\u001b[0m\u001b[0;34m)\u001b[0m\u001b[0;34m.\u001b[0m\u001b[0msolve_right\u001b[0m\u001b[0;34m(\u001b[0m\u001b[0mB\u001b[0m\u001b[0;34m,\u001b[0m \u001b[0mcheck\u001b[0m\u001b[0;34m=\u001b[0m\u001b[0mcheck\u001b[0m\u001b[0;34m)\u001b[0m\u001b[0;34m\u001b[0m\u001b[0;34m\u001b[0m\u001b[0m\n\u001b[0m\u001b[1;32m    402\u001b[0m             \u001b[0;32mexcept\u001b[0m \u001b[0mValueError\u001b[0m \u001b[0;32mas\u001b[0m \u001b[0me\u001b[0m\u001b[0;34m:\u001b[0m\u001b[0;34m\u001b[0m\u001b[0;34m\u001b[0m\u001b[0m\n",
      "\u001b[0;32m/opt/sagemath-9.2/local/lib/python3.7/site-packages/sage/matrix/matrix2.pyx\u001b[0m in \u001b[0;36msage.matrix.matrix2.Matrix.solve_right (build/cythonized/sage/matrix/matrix2.c:8446)\u001b[0;34m()\u001b[0m\n\u001b[1;32m    846\u001b[0m         \u001b[0;32mif\u001b[0m \u001b[0;32mnot\u001b[0m \u001b[0mself\u001b[0m\u001b[0;34m.\u001b[0m\u001b[0mis_square\u001b[0m\u001b[0;34m(\u001b[0m\u001b[0;34m)\u001b[0m\u001b[0;34m:\u001b[0m\u001b[0;34m\u001b[0m\u001b[0;34m\u001b[0m\u001b[0m\n\u001b[0;32m--> 847\u001b[0;31m             \u001b[0mX\u001b[0m \u001b[0;34m=\u001b[0m \u001b[0mself\u001b[0m\u001b[0;34m.\u001b[0m\u001b[0m_solve_right_general\u001b[0m\u001b[0;34m(\u001b[0m\u001b[0mC\u001b[0m\u001b[0;34m,\u001b[0m \u001b[0mcheck\u001b[0m\u001b[0;34m=\u001b[0m\u001b[0mcheck\u001b[0m\u001b[0;34m)\u001b[0m\u001b[0;34m\u001b[0m\u001b[0;34m\u001b[0m\u001b[0m\n\u001b[0m\u001b[1;32m    848\u001b[0m         \u001b[0;32melse\u001b[0m\u001b[0;34m:\u001b[0m\u001b[0;34m\u001b[0m\u001b[0;34m\u001b[0m\u001b[0m\n",
      "\u001b[0;32m/opt/sagemath-9.2/local/lib/python3.7/site-packages/sage/matrix/matrix2.pyx\u001b[0m in \u001b[0;36msage.matrix.matrix2.Matrix._solve_right_general (build/cythonized/sage/matrix/matrix2.c:9786)\u001b[0;34m()\u001b[0m\n\u001b[1;32m    969\u001b[0m             \u001b[0;32mif\u001b[0m \u001b[0mself\u001b[0m\u001b[0;34m*\u001b[0m\u001b[0mX\u001b[0m \u001b[0;34m!=\u001b[0m \u001b[0mB\u001b[0m\u001b[0;34m:\u001b[0m\u001b[0;34m\u001b[0m\u001b[0;34m\u001b[0m\u001b[0m\n\u001b[0;32m--> 970\u001b[0;31m                 \u001b[0;32mraise\u001b[0m \u001b[0mValueError\u001b[0m\u001b[0;34m(\u001b[0m\u001b[0;34m\"matrix equation has no solutions\"\u001b[0m\u001b[0;34m)\u001b[0m\u001b[0;34m\u001b[0m\u001b[0;34m\u001b[0m\u001b[0m\n\u001b[0m\u001b[1;32m    971\u001b[0m         \u001b[0;32mreturn\u001b[0m \u001b[0mX\u001b[0m\u001b[0;34m\u001b[0m\u001b[0;34m\u001b[0m\u001b[0m\n",
      "\u001b[0;31mValueError\u001b[0m: matrix equation has no solutions",
      "\nDuring handling of the above exception, another exception occurred:\n",
      "\u001b[0;31mValueError\u001b[0m                                Traceback (most recent call last)",
      "\u001b[0;32m<ipython-input-90-11ec2b6c0e6c>\u001b[0m in \u001b[0;36m<module>\u001b[0;34m\u001b[0m\n\u001b[1;32m      1\u001b[0m \u001b[0mepols\u001b[0m \u001b[0;34m=\u001b[0m \u001b[0metapols\u001b[0m\u001b[0;34m(\u001b[0m\u001b[0mInteger\u001b[0m\u001b[0;34m(\u001b[0m\u001b[0;36m5\u001b[0m\u001b[0;34m)\u001b[0m\u001b[0;34m,\u001b[0m\u001b[0mInteger\u001b[0m\u001b[0;34m(\u001b[0m\u001b[0;36m3\u001b[0m\u001b[0;34m)\u001b[0m\u001b[0;34m)\u001b[0m\u001b[0;34m\u001b[0m\u001b[0;34m\u001b[0m\u001b[0m\n\u001b[0;32m----> 2\u001b[0;31m \u001b[0mlift\u001b[0m\u001b[0;34m(\u001b[0m\u001b[0mGF\u001b[0m\u001b[0;34m(\u001b[0m\u001b[0mInteger\u001b[0m\u001b[0;34m(\u001b[0m\u001b[0;36m5\u001b[0m\u001b[0;34m)\u001b[0m\u001b[0;34m)\u001b[0m\u001b[0;34m(\u001b[0m\u001b[0mInteger\u001b[0m\u001b[0;34m(\u001b[0m\u001b[0;36m1\u001b[0m\u001b[0;34m)\u001b[0m\u001b[0;34m)\u001b[0m\u001b[0;34m,\u001b[0m\u001b[0mGF\u001b[0m\u001b[0;34m(\u001b[0m\u001b[0mInteger\u001b[0m\u001b[0;34m(\u001b[0m\u001b[0;36m5\u001b[0m\u001b[0;34m)\u001b[0m\u001b[0;34m)\u001b[0m\u001b[0;34m(\u001b[0m\u001b[0mInteger\u001b[0m\u001b[0;34m(\u001b[0m\u001b[0;36m2\u001b[0m\u001b[0;34m)\u001b[0m\u001b[0;34m)\u001b[0m\u001b[0;34m,\u001b[0m \u001b[0mInteger\u001b[0m\u001b[0;34m(\u001b[0m\u001b[0;36m3\u001b[0m\u001b[0;34m)\u001b[0m\u001b[0;34m,\u001b[0m \u001b[0mminimal\u001b[0m\u001b[0;34m=\u001b[0m\u001b[0;32mTrue\u001b[0m\u001b[0;34m,\u001b[0m \u001b[0mpols\u001b[0m \u001b[0;34m=\u001b[0m \u001b[0mepols\u001b[0m\u001b[0;34m)\u001b[0m\u001b[0;34m\u001b[0m\u001b[0;34m\u001b[0m\u001b[0m\n\u001b[0m",
      "\u001b[0;32m<ipython-input-89-df2287f36f20>\u001b[0m in \u001b[0;36mlift\u001b[0;34m(a0, b0, n, pols, minimal)\u001b[0m\n\u001b[1;32m    105\u001b[0m         \u001b[0mprint\u001b[0m\u001b[0;34m(\u001b[0m\u001b[0;34m\"vec: \"\u001b[0m\u001b[0;34m,\u001b[0m \u001b[0mvec\u001b[0m\u001b[0;34m)\u001b[0m\u001b[0;34m\u001b[0m\u001b[0;34m\u001b[0m\u001b[0m\n\u001b[1;32m    106\u001b[0m \u001b[0;34m\u001b[0m\u001b[0m\n\u001b[0;32m--> 107\u001b[0;31m         \u001b[0mvsol\u001b[0m \u001b[0;34m=\u001b[0m \u001b[0mMat\u001b[0m\u001b[0;34m.\u001b[0m\u001b[0msolve_left\u001b[0m\u001b[0;34m(\u001b[0m\u001b[0mvec\u001b[0m\u001b[0;34m)\u001b[0m\u001b[0;34m\u001b[0m\u001b[0;34m\u001b[0m\u001b[0m\n\u001b[0m\u001b[1;32m    108\u001b[0m \u001b[0;34m\u001b[0m\u001b[0m\n\u001b[1;32m    109\u001b[0m         \u001b[0mevalvec\u001b[0m \u001b[0;34m=\u001b[0m \u001b[0;34m[\u001b[0m\u001b[0mx0\u001b[0m\u001b[0;34m,\u001b[0m \u001b[0mInteger\u001b[0m\u001b[0;34m(\u001b[0m\u001b[0;36m0\u001b[0m\u001b[0;34m)\u001b[0m\u001b[0;34m]\u001b[0m \u001b[0;34m+\u001b[0m \u001b[0;34m[\u001b[0m\u001b[0mvsol\u001b[0m\u001b[0;34m[\u001b[0m\u001b[0mi\u001b[0m\u001b[0;34m]\u001b[0m \u001b[0;32mfor\u001b[0m \u001b[0mj\u001b[0m \u001b[0;32min\u001b[0m \u001b[0mrange\u001b[0m\u001b[0;34m(\u001b[0m\u001b[0mInteger\u001b[0m\u001b[0;34m(\u001b[0m\u001b[0;36m0\u001b[0m\u001b[0;34m)\u001b[0m\u001b[0;34m,\u001b[0m \u001b[0mInteger\u001b[0m\u001b[0;34m(\u001b[0m\u001b[0;36m2\u001b[0m\u001b[0;34m)\u001b[0m\u001b[0;34m+\u001b[0m\u001b[0mp\u001b[0m\u001b[0;34m**\u001b[0m\u001b[0;34m(\u001b[0m\u001b[0mi\u001b[0m\u001b[0;34m)\u001b[0m\u001b[0;34m)\u001b[0m\u001b[0;34m]\u001b[0m \u001b[0;34m+\u001b[0m \u001b[0;34m[\u001b[0m\u001b[0mInteger\u001b[0m\u001b[0;34m(\u001b[0m\u001b[0;36m0\u001b[0m\u001b[0;34m)\u001b[0m\u001b[0;34m]\u001b[0m \u001b[0;34m+\u001b[0m \u001b[0;34m[\u001b[0m\u001b[0mvsol\u001b[0m\u001b[0;34m[\u001b[0m\u001b[0mj\u001b[0m\u001b[0;34m]\u001b[0m \u001b[0;32mfor\u001b[0m \u001b[0mj\u001b[0m \u001b[0;32min\u001b[0m \u001b[0mrange\u001b[0m\u001b[0;34m(\u001b[0m\u001b[0mInteger\u001b[0m\u001b[0;34m(\u001b[0m\u001b[0;36m2\u001b[0m\u001b[0;34m)\u001b[0m\u001b[0;34m+\u001b[0m\u001b[0mp\u001b[0m\u001b[0;34m**\u001b[0m\u001b[0;34m(\u001b[0m\u001b[0mi\u001b[0m\u001b[0;34m)\u001b[0m\u001b[0;34m,\u001b[0m \u001b[0;34m(\u001b[0m\u001b[0mInteger\u001b[0m\u001b[0;34m(\u001b[0m\u001b[0;36m2\u001b[0m\u001b[0;34m)\u001b[0m\u001b[0;34m+\u001b[0m\u001b[0mM\u001b[0m\u001b[0;34m)\u001b[0m\u001b[0;34m)\u001b[0m\u001b[0;34m]\u001b[0m \u001b[0;34m+\u001b[0m \u001b[0;34m[\u001b[0m\u001b[0mInteger\u001b[0m\u001b[0;34m(\u001b[0m\u001b[0;36m0\u001b[0m\u001b[0;34m)\u001b[0m\u001b[0;34m]\u001b[0m\u001b[0;34m\u001b[0m\u001b[0;34m\u001b[0m\u001b[0m\n",
      "\u001b[0;32m/opt/sagemath-9.2/local/lib/python3.7/site-packages/sage/matrix/matrix2.pyx\u001b[0m in \u001b[0;36msage.matrix.matrix2.Matrix.solve_left (build/cythonized/sage/matrix/matrix2.c:6300)\u001b[0;34m()\u001b[0m\n\u001b[1;32m    401\u001b[0m                 \u001b[0;32mreturn\u001b[0m \u001b[0mself\u001b[0m\u001b[0;34m.\u001b[0m\u001b[0mtranspose\u001b[0m\u001b[0;34m(\u001b[0m\u001b[0;34m)\u001b[0m\u001b[0;34m.\u001b[0m\u001b[0msolve_right\u001b[0m\u001b[0;34m(\u001b[0m\u001b[0mB\u001b[0m\u001b[0;34m,\u001b[0m \u001b[0mcheck\u001b[0m\u001b[0;34m=\u001b[0m\u001b[0mcheck\u001b[0m\u001b[0;34m)\u001b[0m\u001b[0;34m\u001b[0m\u001b[0;34m\u001b[0m\u001b[0m\n\u001b[1;32m    402\u001b[0m             \u001b[0;32mexcept\u001b[0m \u001b[0mValueError\u001b[0m \u001b[0;32mas\u001b[0m \u001b[0me\u001b[0m\u001b[0;34m:\u001b[0m\u001b[0;34m\u001b[0m\u001b[0;34m\u001b[0m\u001b[0m\n\u001b[0;32m--> 403\u001b[0;31m                 \u001b[0;32mraise\u001b[0m \u001b[0mValueError\u001b[0m\u001b[0;34m(\u001b[0m\u001b[0mstr\u001b[0m\u001b[0;34m(\u001b[0m\u001b[0me\u001b[0m\u001b[0;34m)\u001b[0m\u001b[0;34m.\u001b[0m\u001b[0mreplace\u001b[0m\u001b[0;34m(\u001b[0m\u001b[0;34m'row'\u001b[0m\u001b[0;34m,\u001b[0m \u001b[0;34m'column'\u001b[0m\u001b[0;34m)\u001b[0m\u001b[0;34m)\u001b[0m\u001b[0;34m\u001b[0m\u001b[0;34m\u001b[0m\u001b[0m\n\u001b[0m\u001b[1;32m    404\u001b[0m         \u001b[0;32melse\u001b[0m\u001b[0;34m:\u001b[0m\u001b[0;34m\u001b[0m\u001b[0;34m\u001b[0m\u001b[0m\n\u001b[1;32m    405\u001b[0m             \u001b[0;32mtry\u001b[0m\u001b[0;34m:\u001b[0m\u001b[0;34m\u001b[0m\u001b[0;34m\u001b[0m\u001b[0m\n",
      "\u001b[0;31mValueError\u001b[0m: matrix equation has no solutions"
     ]
    }
   ],
   "source": [
    "epols = etapols(5,3)\n",
    "lift(GF(5)(1),GF(5)(2), 3, minimal=True, pols = epols)"
   ]
  },
  {
   "cell_type": "code",
   "execution_count": 19,
   "metadata": {},
   "outputs": [],
   "source": [
    "F.<x,y> = PolynomialRing(GF(5),2)\n",
    "f = 2*x + 3*x*y"
   ]
  },
  {
   "cell_type": "code",
   "execution_count": 64,
   "metadata": {
    "scrolled": true
   },
   "outputs": [
    {
     "data": {
      "text/plain": [
       "-2*y + 2"
      ]
     },
     "execution_count": 64,
     "metadata": {},
     "output_type": "execute_result"
    }
   ],
   "source": [
    "f.coefficient({x:1})"
   ]
  },
  {
   "cell_type": "code",
   "execution_count": 83,
   "metadata": {},
   "outputs": [],
   "source": [
    "G.<x0> = GF(5)[]\n",
    "g = 1*x0 - 2*x0^2 + 3*x0^3"
   ]
  },
  {
   "cell_type": "code",
   "execution_count": 92,
   "metadata": {},
   "outputs": [
    {
     "data": {
      "text/plain": [
       "[]"
      ]
     },
     "execution_count": 92,
     "metadata": {},
     "output_type": "execute_result"
    }
   ],
   "source": [
    "v = [i for i in range(0,0)]\n",
    "v"
   ]
  },
  {
   "cell_type": "code",
   "execution_count": 23,
   "metadata": {},
   "outputs": [],
   "source": [
    "p = 5; d = 3; F.<a> = GF(p^d); P.<x,y> = F[]\n",
    "v = [x, x*y, P(2)]\n",
    "w = [x^2, x-y, 1 + y^2]"
   ]
  },
  {
   "cell_type": "code",
   "execution_count": 27,
   "metadata": {},
   "outputs": [
    {
     "data": {
      "text/plain": [
       "[x^3, x^11*y + x^6 - x^5*y, 2*x^50 + x^25*y^2 + x^25 + x^10*y^5 - x^5*y^10]"
      ]
     },
     "execution_count": 27,
     "metadata": {},
     "output_type": "execute_result"
    }
   ],
   "source": [
    "epols = etapols(p,2)\n",
    "WittProd1(v, w, pols=epols)"
   ]
  },
  {
   "cell_type": "code",
   "execution_count": 15,
   "metadata": {},
   "outputs": [
    {
     "ename": "NameError",
     "evalue": "name 'x0' is not defined",
     "output_type": "error",
     "traceback": [
      "\u001b[0;31m---------------------------------------------------------------------------\u001b[0m",
      "\u001b[0;31mNameError\u001b[0m                                 Traceback (most recent call last)",
      "\u001b[0;32m<ipython-input-15-008e2412a0d6>\u001b[0m in \u001b[0;36m<module>\u001b[0;34m\u001b[0m\n\u001b[0;32m----> 1\u001b[0;31m \u001b[0mf\u001b[0m \u001b[0;34m=\u001b[0m \u001b[0mInteger\u001b[0m\u001b[0;34m(\u001b[0m\u001b[0;36m3\u001b[0m\u001b[0;34m)\u001b[0m\u001b[0;34m*\u001b[0m\u001b[0mx0\u001b[0m\u001b[0;34m**\u001b[0m\u001b[0mInteger\u001b[0m\u001b[0;34m(\u001b[0m\u001b[0;36m4\u001b[0m\u001b[0;34m)\u001b[0m \u001b[0;34m+\u001b[0m \u001b[0mInteger\u001b[0m\u001b[0;34m(\u001b[0m\u001b[0;36m2\u001b[0m\u001b[0;34m)\u001b[0m\u001b[0;34m*\u001b[0m\u001b[0mx0\u001b[0m\u001b[0;34m**\u001b[0m\u001b[0mInteger\u001b[0m\u001b[0;34m(\u001b[0m\u001b[0;36m2\u001b[0m\u001b[0;34m)\u001b[0m \u001b[0;34m-\u001b[0m \u001b[0mx0\u001b[0m \u001b[0;34m+\u001b[0m \u001b[0mInteger\u001b[0m\u001b[0;34m(\u001b[0m\u001b[0;36m7\u001b[0m\u001b[0;34m)\u001b[0m\u001b[0;34m\u001b[0m\u001b[0;34m\u001b[0m\u001b[0m\n\u001b[0m\u001b[1;32m      2\u001b[0m \u001b[0mprint\u001b[0m\u001b[0;34m(\u001b[0m\u001b[0mf\u001b[0m\u001b[0;34m.\u001b[0m\u001b[0mcoefficients\u001b[0m\u001b[0;34m(\u001b[0m\u001b[0msparse\u001b[0m\u001b[0;34m=\u001b[0m\u001b[0;32mFalse\u001b[0m\u001b[0;34m)\u001b[0m\u001b[0;34m)\u001b[0m\u001b[0;34m\u001b[0m\u001b[0;34m\u001b[0m\u001b[0m\n\u001b[1;32m      3\u001b[0m \u001b[0mprint\u001b[0m\u001b[0;34m(\u001b[0m\u001b[0mlist\u001b[0m\u001b[0;34m(\u001b[0m\u001b[0mf\u001b[0m\u001b[0;34m)\u001b[0m\u001b[0;34m)\u001b[0m\u001b[0;34m\u001b[0m\u001b[0;34m\u001b[0m\u001b[0m\n\u001b[1;32m      4\u001b[0m \u001b[0mprint\u001b[0m\u001b[0;34m(\u001b[0m\u001b[0mf\u001b[0m\u001b[0;34m)\u001b[0m\u001b[0;34m\u001b[0m\u001b[0;34m\u001b[0m\u001b[0m\n",
      "\u001b[0;31mNameError\u001b[0m: name 'x0' is not defined"
     ]
    }
   ],
   "source": [
    "f = 3*x0^4 + 2*x0^2 - x0 + 7\n",
    "print(f.coefficients(sparse=False))\n",
    "print(list(f))\n",
    "print(f)"
   ]
  },
  {
   "cell_type": "code",
   "execution_count": 17,
   "metadata": {},
   "outputs": [
    {
     "data": {
      "text/plain": [
       "[[1], [1, 1], [1, 1], [1, 2, 1], [1, 3, 3, 1]]"
      ]
     },
     "execution_count": 17,
     "metadata": {},
     "output_type": "execute_result"
    }
   ],
   "source": [
    "bin_tab(3,4)"
   ]
  },
  {
   "cell_type": "code",
   "execution_count": 58,
   "metadata": {},
   "outputs": [
    {
     "data": {
      "text/plain": [
       "5"
      ]
     },
     "execution_count": 58,
     "metadata": {},
     "output_type": "execute_result"
    }
   ],
   "source": [
    "F = PolynomialRing(GF(7), ['x_n','y_n', 'a_n', 'b_n'] + [ 'c%s'%i for i in range(0,5+1)] + ['Hn'])\n",
    "f = F.1^7 + F.2*F.0^6\n",
    "list(f)\n",
    "G = PolynomialRing(GF(7), 'x0')\n",
    "g = x0^2 + 3*x0\n",
    "G.gen()(5)"
   ]
  },
  {
   "cell_type": "code",
   "execution_count": 83,
   "metadata": {},
   "outputs": [
    {
     "data": {
      "text/plain": [
       "[2*x1^2*x2 - 2, 0, 0, x1]"
      ]
     },
     "execution_count": 83,
     "metadata": {},
     "output_type": "execute_result"
    }
   ],
   "source": [
    "P = PolynomialRing(GF(7), 3,  var_array = ['x'])\n",
    "g = P.0^3 * P.1 - 5 * P.2 * P.1^2 + 5\n",
    "test = []\n",
    "for i in range(0, g.degree(P.0)+1):\n",
    "    test += [ g.coefficient({P.0:i})]\n",
    "test"
   ]
  },
  {
   "cell_type": "code",
   "execution_count": 73,
   "metadata": {},
   "outputs": [
    {
     "data": {
      "text/plain": [
       "y_n^7 + x_n^6*a_n"
      ]
     },
     "execution_count": 73,
     "metadata": {},
     "output_type": "execute_result"
    }
   ],
   "source": [
    "f.coefficient(F.0^0)"
   ]
  },
  {
   "cell_type": "code",
   "execution_count": 85,
   "metadata": {},
   "outputs": [
    {
     "data": {
      "text/plain": [
       "[0 1 2 3 4]\n",
       "[1 2 3 4 5]\n",
       "[2 3 4 5 6]\n",
       "[3 4 5 6 7]\n",
       "[4 5 6 7 8]"
      ]
     },
     "execution_count": 85,
     "metadata": {},
     "output_type": "execute_result"
    }
   ],
   "source": [
    "M = Matrix(ZZ, [ [i + j for i in range(0,5) ] for j in range(0,5)]); M"
   ]
  },
  {
   "cell_type": "code",
   "execution_count": 86,
   "metadata": {},
   "outputs": [
    {
     "data": {
      "text/plain": [
       "Integer Ring"
      ]
     },
     "execution_count": 86,
     "metadata": {},
     "output_type": "execute_result"
    }
   ],
   "source": [
    "M[2][2].parent()"
   ]
  },
  {
   "cell_type": "code",
   "execution_count": 51,
   "metadata": {},
   "outputs": [],
   "source": [
    "p = 5\n",
    "n = 6\n",
    "PR1 = PolynomialRing(Integers(p^(n+1)), 2*n+2, \"alpha00\")\n",
    "PR2.<t> = PolynomialRing(PR1)\n",
    "t1 = sum(PR2.0^(s+1)*PR1.gen(s+1)^(p^(n-(s+1))) for s in range(0, n))\n",
    "t2 = sum(PR2.0^(s+1)*PR1.gen(n+s+2)^(p^(n-(s+1))) for s in range(0, n))"
   ]
  },
  {
   "cell_type": "code",
   "execution_count": 130,
   "metadata": {},
   "outputs": [
    {
     "data": {
      "text/plain": [
       "[[], [], []]"
      ]
     },
     "execution_count": 130,
     "metadata": {},
     "output_type": "execute_result"
    }
   ],
   "source": [
    "res = [ [] for s in range (0, 3) ]\n",
    "res"
   ]
  },
  {
   "cell_type": "code",
   "execution_count": 149,
   "metadata": {},
   "outputs": [
    {
     "data": {
      "text/plain": [
       "63"
      ]
     },
     "execution_count": 149,
     "metadata": {},
     "output_type": "execute_result"
    }
   ],
   "source": [
    "v = [1, 2, 3, 4, 5]\n",
    "h(v)"
   ]
  },
  {
   "cell_type": "code",
   "execution_count": 136,
   "metadata": {
    "scrolled": true
   },
   "outputs": [
    {
     "name": "stdout",
     "output_type": "stream",
     "text": [
      "x0\n",
      "y0\n",
      "x1\n",
      "y1\n",
      "x2\n",
      "y2\n",
      "x3\n",
      "y3\n",
      "x4\n",
      "y4\n"
     ]
    }
   ],
   "source": [
    "F = GF(7)\n",
    "PR = PolynomialRing(F, 5, var_array = ['x', 'y'])\n",
    "for i in range(0, 10):\n",
    "    print(PR.gen(i))"
   ]
  },
  {
   "cell_type": "code",
   "execution_count": 140,
   "metadata": {},
   "outputs": [
    {
     "data": {
      "text/plain": [
       "[0, x1, x2, x3, x4, 0, y1, y2, y3, y4]"
      ]
     },
     "execution_count": 140,
     "metadata": {},
     "output_type": "execute_result"
    }
   ],
   "source": [
    "v = [ PR(0) for s in range(0, 2*4+2)]\n",
    "for s in range(1, 5):\n",
    "    v[s] = PR.gen(2*s)\n",
    "    v[s+4+1] = PR.gen(2*s+1)\n",
    "v"
   ]
  },
  {
   "cell_type": "code",
   "execution_count": 1,
   "metadata": {},
   "outputs": [
    {
     "data": {
      "text/plain": [
       "x0^2*y0^4 - 3*y2^2*y3^3 - 2*x2 - 1"
      ]
     },
     "execution_count": 1,
     "metadata": {},
     "output_type": "execute_result"
    }
   ],
   "source": [
    "F = PolynomialRing(GF(7), 4, var_array = ['x','y'])\n",
    "f = F.1^4*F.0^2 + F.4*5 - F.5^2 * F.7^3*10 - 15\n",
    "f"
   ]
  },
  {
   "cell_type": "code",
   "execution_count": 2,
   "metadata": {},
   "outputs": [
    {
     "data": {
      "text/plain": [
       "[(1, x0^2*y0^4), (4, y2^2*y3^3), (5, x2), (6, 1)]"
      ]
     },
     "execution_count": 2,
     "metadata": {},
     "output_type": "execute_result"
    }
   ],
   "source": [
    "list(f)"
   ]
  },
  {
   "cell_type": "code",
   "execution_count": 5,
   "metadata": {},
   "outputs": [
    {
     "name": "stdout",
     "output_type": "stream",
     "text": [
      "x0^2*y0^4\n",
      "-3*y2^2*y3^3\n",
      "-2*x2\n",
      "-1\n"
     ]
    }
   ],
   "source": [
    "for i in range(0, len(list(f))):\n",
    "    print(list(f)[i][1]*list(f)[i][0])"
   ]
  },
  {
   "cell_type": "code",
   "execution_count": 21,
   "metadata": {},
   "outputs": [],
   "source": [
    "def my_SeriesToWitt(s, F=None):\n",
    "    ZZq = s.parent()\n",
    "    n = len(list(b.expansion()))\n",
    "    k = ZZq.degree()\n",
    "    p = ZZq.prime()\n",
    "    a0 = ZZq.gen()\n",
    "    \n",
    "    if F is None:\n",
    "        F.<a> = GF(p^k)\n",
    "    \n",
    "    FFq = ZZq.residue_field()\n",
    "    b0 = FFq.gen()\n",
    "    phi = F.hom([b0]) #Map from F to FFq\n",
    "    \n",
    "    v = []\n",
    "    tmp_s = s\n",
    "    \n",
    "    for i in range(0, len(list(s.expansion()))):\n",
    "        tmp = F(0)\n",
    "        for j in range(len(list(tmp_s.expansion()[0]))):\n",
    "            tmp += (F(tmp_s[i][j])*F.gen()^j)*(p^i) #Coerce s_i into F\n",
    "        v.append(tmp)\n",
    "        tmp_lift = ZZq(ZZq.teichmuller(phi(tmp)))\n",
    "        tmp_s = (tmp_s - tmp_lift) / p\n",
    "    \n",
    "    return [ v[i]^(p^i) for i in range(len(v)) ]"
   ]
  },
  {
   "cell_type": "code",
   "execution_count": null,
   "metadata": {},
   "outputs": [],
   "source": []
  },
  {
   "cell_type": "code",
   "execution_count": 2,
   "metadata": {},
   "outputs": [],
   "source": [
    "def WittToSeries(v, ZZq = None):\n",
    "    FF = v[0].parent()  # base field\n",
    "    p = FF.characteristic()\n",
    "    degree = FF.degree()\n",
    "    a = FF.gen()\n",
    "    n = len(v) - 1\n",
    "    \n",
    "    # if ring is not given, create it\n",
    "    if ZZq is None:\n",
    "        ZZq.<A> = Zq(p^degree, n+1)\n",
    "        \n",
    "    FFq = ZZq.residue_field()\n",
    "    a0 = FFq.gen()\n",
    "    \n",
    "    # We now need a map from FF and FFq\n",
    "    phi = FF.hom([a0])\n",
    "    \n",
    "    return sum([ ZZq.teichmuller(phi(x).pth_root(i)) * p^i for i, x in enumerate(v) ])"
   ]
  }
 ],
 "metadata": {
  "kernelspec": {
   "display_name": "SageMath 9.2",
   "language": "sage",
   "name": "sagemath"
  },
  "language_info": {
   "codemirror_mode": {
    "name": "ipython",
    "version": 3
   },
   "file_extension": ".py",
   "mimetype": "text/x-python",
   "name": "python",
   "nbconvert_exporter": "python",
   "pygments_lexer": "ipython3",
   "version": "3.7.7"
  }
 },
 "nbformat": 4,
 "nbformat_minor": 4
}
